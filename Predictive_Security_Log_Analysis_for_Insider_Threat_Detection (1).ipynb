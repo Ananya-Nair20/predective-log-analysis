{
  "nbformat": 4,
  "nbformat_minor": 0,
  "metadata": {
    "colab": {
      "provenance": [],
      "gpuType": "T4"
    },
    "kernelspec": {
      "name": "python3",
      "display_name": "Python 3"
    },
    "language_info": {
      "name": "python"
    },
    "accelerator": "GPU"
  },
  "cells": [
    {
      "cell_type": "code",
      "execution_count": 2,
      "metadata": {
        "colab": {
          "base_uri": "https://localhost:8080/"
        },
        "id": "jcgO0vf7B-zQ",
        "outputId": "22e9b53b-ec05-40a6-eefe-cad836e9312c"
      },
      "outputs": [
        {
          "output_type": "stream",
          "name": "stdout",
          "text": [
            "Mounted at /content/drive\n"
          ]
        }
      ],
      "source": [
        "from google.colab import drive\n",
        "drive.mount('/content/drive')"
      ]
    },
    {
      "cell_type": "code",
      "source": [
        "!pip install pyspark"
      ],
      "metadata": {
        "colab": {
          "base_uri": "https://localhost:8080/"
        },
        "id": "5bIlhXyjU56Q",
        "outputId": "ca2a5f70-9d48-44a4-d97a-39a3f35559b1"
      },
      "execution_count": 3,
      "outputs": [
        {
          "output_type": "stream",
          "name": "stdout",
          "text": [
            "Requirement already satisfied: pyspark in /usr/local/lib/python3.11/dist-packages (3.5.5)\n",
            "Requirement already satisfied: py4j==0.10.9.7 in /usr/local/lib/python3.11/dist-packages (from pyspark) (0.10.9.7)\n"
          ]
        }
      ]
    },
    {
      "cell_type": "markdown",
      "source": [
        "DATA CLEANING:"
      ],
      "metadata": {
        "id": "KvR3TTlrCPNM"
      }
    },
    {
      "cell_type": "code",
      "source": [
        "from google.colab import drive\n",
        "import pandas as pd\n",
        "from pyspark.sql import SparkSession\n",
        "from pyspark.sql.functions import col, when, regexp_replace, trim\n",
        "import os\n",
        "\n",
        "\n",
        "# Defining the path to the data files\n",
        "data_dir = f\"/content/drive/MyDrive/device.csv\"\n",
        "\n",
        "# Initializing SparkSession\n",
        "spark = SparkSession.builder.appName(\"DataCleaning\").getOrCreate()\n",
        "\n",
        "# Columns to clean and preprocess\n",
        "columns_to_clean = [\"id\", \"date\", \"user\", \"pc\", \"file_tree\",\n",
        "                    \"activity\"]\n",
        "\n",
        "# Function to clean a single DataFrame\n",
        "def clean_dataframe(df_spark):\n",
        "  for col_name in columns_to_clean:\n",
        "    # Handling Missing Values: Fill nulls with empty string for string columns\n",
        "    if df_spark.schema[col_name].dataType == 'string':\n",
        "        df_spark = df_spark.na.fill('', subset=[col_name])\n",
        "    else:\n",
        "        df_spark = df_spark.na.fill(0, subset=[col_name])  # Or appropriate value for the column type\n",
        "\n",
        "    # Trimming Whitespace\n",
        "    df_spark = df_spark.withColumn(col_name, trim(col(col_name)))\n",
        "\n",
        "  return df_spark\n",
        "\n",
        "# Looping through all files in the directory\n",
        "for filename in os.listdir(data_dir):\n",
        "    if filename.endswith(\".csv\"): #process only csv files\n",
        "        file_path = os.path.join(data_dir, filename)\n",
        "        print(f\"Processing file: {filename}\")\n",
        "\n",
        "        try:\n",
        "            # Load each CSV file into a Spark DataFrame\n",
        "            df_spark = spark.read.csv(file_path, header=True, inferSchema=True)\n",
        "\n",
        "            # Clean and preprocess the DataFrame\n",
        "            df_spark = clean_dataframe(df_spark)\n",
        "\n",
        "            # Output path for the cleaned file\n",
        "            output_file_path = os.path.join('/content/drive/MyDrive/cleaned', filename.replace('.csv', '_clean.csv'))\n",
        "\n",
        "            # Save the cleaned data\n",
        "            df_spark.write.csv(output_file_path, header=True, mode='overwrite')\n",
        "\n",
        "        except Exception as e:\n",
        "            print(f\"Error processing {filename}: {e}\")\n",
        "\n",
        "print(\"Data cleaning process completed.\")\n"
      ],
      "metadata": {
        "colab": {
          "base_uri": "https://localhost:8080/"
        },
        "id": "nsyskno9CK4D",
        "outputId": "f91b697a-c7fe-48c8-ff55-16168356509d"
      },
      "execution_count": 4,
      "outputs": [
        {
          "output_type": "stream",
          "name": "stdout",
          "text": [
            "Processing file: device.csv\n",
            "Data cleaning process completed.\n"
          ]
        }
      ]
    },
    {
      "cell_type": "markdown",
      "source": [
        "FEATURE ENGINEERING:\n",
        "\n",
        ">\n",
        "\n",
        "\n"
      ],
      "metadata": {
        "id": "8m7DDoxXIp9a"
      }
    },
    {
      "cell_type": "code",
      "source": [
        "from pyspark.sql.functions import countDistinct, size, split, date_format, to_timestamp, hour, dayofweek, count, when, lit\n",
        "from pyspark.sql.types import StringType, TimestampType\n",
        "\n",
        "# 1. Activity Count per User (per hour)\n",
        "df_spark = df_spark.withColumn(\"timestamp\", to_timestamp(col(\"date\"), \"dd/MM/yyyy HH:mm:ss\"))\n",
        "df_spark = df_spark.withColumn(\"date_only\", date_format(col(\"timestamp\"), \"dd/MM/yyyy\").cast(StringType()))\n",
        "df_spark = df_spark.withColumn(\"time_only\", date_format(col(\"timestamp\"), \"HH:mm:ss\").cast(StringType()))\n",
        "\n",
        "# Filtering out rows with null timestamps before grouping\n",
        "df_spark = df_spark.filter(col(\"timestamp\").isNotNull())\n",
        "\n",
        "activity_counts = df_spark.groupBy(\"user\", \"date_only\", \"time_only\").agg(count(\"*\").alias(\"activity_count_per_hour\"))\n",
        "df_spark = df_spark.join(activity_counts, [\"user\", \"date_only\", \"time_only\"], \"left\")\n",
        "\n",
        "# Selecting necessary columns to avoid duplicates\n",
        "df_spark = df_spark.select(\"id\", \"date\", \"user\", \"pc\", \"file_tree\", \"activity\", \"timestamp\", \"date_only\", \"time_only\", \"activity_count_per_hour\")\n",
        "\n",
        "# 2. Unique PCs Accessed per User\n",
        "unique_pcs = df_spark.groupBy(\"user\").agg(countDistinct(\"pc\").alias(\"unique_pcs_accessed\"))\n",
        "df_spark = df_spark.join(unique_pcs, \"user\", \"left\")\n",
        "\n",
        "# Selecting necessary columns again\n",
        "df_spark = df_spark.select(\"id\", \"date\", \"user\", \"pc\", \"file_tree\", \"activity\", \"timestamp\", \"date_only\", \"time_only\", \"activity_count_per_hour\", \"unique_pcs_accessed\")\n",
        "\n",
        "# 3. File Path Depth - Handling empty paths\n",
        "df_spark = df_spark.withColumn(\"file_path_depth\", when(col(\"file_tree\") != '', size(split(col(\"file_tree\"), \"/\"))).otherwise(lit(0)))\n",
        "\n",
        "# 4. Activity Frequency (per day) - Ensuring date_only is in the correct format for join\n",
        "activity_frequency = df_spark.groupBy(\"user\", \"date_only\").agg(count(\"*\").alias(\"activity_frequency_per_day\"))\n",
        "df_spark = df_spark.join(activity_frequency, [\"user\", \"date_only\"], \"left\")\n",
        "\n",
        "# Selecting necessary columns\n",
        "df_spark = df_spark.select(\"id\", \"date\", \"user\", \"pc\", \"file_tree\", \"activity\", \"timestamp\", \"date_only\", \"time_only\", \"activity_count_per_hour\", \"unique_pcs_accessed\", \"file_path_depth\", \"activity_frequency_per_day\")\n",
        "\n",
        "# 5. Day of Week / Hour of Day\n",
        "df_spark = df_spark.withColumn(\"day_of_week\", dayofweek(\"timestamp\"))\n",
        "df_spark = df_spark.withColumn(\"hour_of_day\", hour(\"timestamp\"))\n",
        "\n",
        "df_spark.show()"
      ],
      "metadata": {
        "colab": {
          "base_uri": "https://localhost:8080/"
        },
        "id": "xdjW4aCTBgZ8",
        "outputId": "e213748a-9c8e-467b-90c3-3e2ce6f48a27"
      },
      "execution_count": 5,
      "outputs": [
        {
          "output_type": "stream",
          "name": "stdout",
          "text": [
            "+--------------------+-------------------+-------+-------+--------------------+----------+-------------------+----------+---------+-----------------------+-------------------+---------------+--------------------------+-----------+-----------+\n",
            "|                  id|               date|   user|     pc|           file_tree|  activity|          timestamp| date_only|time_only|activity_count_per_hour|unique_pcs_accessed|file_path_depth|activity_frequency_per_day|day_of_week|hour_of_day|\n",
            "+--------------------+-------------------+-------+-------+--------------------+----------+-------------------+----------+---------+-----------------------+-------------------+---------------+--------------------------+-----------+-----------+\n",
            "|{W0H4-S5OD03FD-56...|01/02/2010 07:48:30|ANC1950|PC-4921|R:\\;R:\\23svS11;R:...|   Connect|2010-02-01 07:48:30|01/02/2010| 07:48:30|                      1|                  1|              1|                         4|          2|          7|\n",
            "|{Y3V7-B9RC11WO-81...|10/01/2010 01:14:15|BMM0462|PC-8827|R:\\;R:\\65B8Vr4;R:...|   Connect|2010-01-10 01:14:15|10/01/2010| 01:14:15|                      1|                352|              1|                         8|          1|          1|\n",
            "|{Y0N3-X6HV55BA-14...|10/01/2010 01:16:06|BMM0462|PC-8827|                NULL|Disconnect|2010-01-10 01:16:06|10/01/2010| 01:16:06|                      1|                352|              0|                         8|          1|          1|\n",
            "|{M2J3-F1JZ92QP-71...|10/01/2010 01:10:38|IKP1047|PC-3951|      R:\\;R:\\IKP1047|   Connect|2010-01-10 01:10:38|10/01/2010| 01:10:38|                      1|                254|              1|                         6|          1|          1|\n",
            "|{N5K7-S2AI46KC-55...|10/01/2010 01:12:49|IKP1047|PC-3951|                NULL|Disconnect|2010-01-10 01:12:49|10/01/2010| 01:12:49|                      1|                254|              0|                         6|          1|          1|\n",
            "|{N0N4-S0KF96GO-98...|01/02/2010 07:41:02|ROR3483|PC-4365|R:\\;R:\\177Qcm8;R:...|   Connect|2010-02-01 07:41:02|01/02/2010| 07:41:02|                      1|                  1|              1|                        16|          2|          7|\n",
            "|{B6W4-L4VO73SE-09...|01/02/2010 07:46:34|ROR3483|PC-4365|                NULL|Disconnect|2010-02-01 07:46:34|01/02/2010| 07:46:34|                      1|                  1|              0|                        16|          2|          7|\n",
            "|{X6P2-R0OW84AX-41...|10/01/2010 01:53:09|JCB3054|PC-3600|R:\\;R:\\11V6vR4;R:...|   Connect|2010-01-10 01:53:09|10/01/2010| 01:53:09|                      1|                383|              1|                         4|          1|          1|\n",
            "|{S8L0-O6QQ15NL-06...|01/02/2010 07:33:28|GNT0221|PC-6427|      R:\\;R:\\GNT0221|   Connect|2010-02-01 07:33:28|01/02/2010| 07:33:28|                      1|                  1|              1|                        18|          2|          7|\n",
            "|{W8G8-O4IR40KC-62...|01/02/2010 07:43:29|GNT0221|PC-6427|                NULL|Disconnect|2010-02-01 07:43:29|01/02/2010| 07:43:29|                      1|                  1|              0|                        18|          2|          7|\n",
            "|{X0M4-W4KD87WB-50...|10/01/2010 02:54:48|DLM2440|PC-3670|                NULL|Disconnect|2010-01-10 02:54:48|10/01/2010| 02:54:48|                      1|                377|              0|                         8|          1|          2|\n",
            "|{C7F1-G7LE60RU-24...|01/02/2010 07:22:42|JKS2444|PC-6961|      R:\\;R:\\JKS2444|   Connect|2010-02-01 07:22:42|01/02/2010| 07:22:42|                      1|                  1|              1|                        18|          2|          7|\n",
            "|{U0F1-R1FX27FM-69...|01/02/2010 07:33:55|JKS2444|PC-6961|                NULL|Disconnect|2010-02-01 07:33:55|01/02/2010| 07:33:55|                      1|                  1|              0|                        18|          2|          7|\n",
            "|{Z2Q8-K3AV28BE-93...|01/02/2010 07:17:18|SDH2394|PC-5849|R:\\;R:\\22B5gX4;R:...|   Connect|2010-02-01 07:17:18|01/02/2010| 07:17:18|                      1|                  1|              1|                        14|          2|          7|\n",
            "|{T3E4-I2OZ53JE-92...|10/01/2010 02:55:38|CHB1062|PC-2803|                NULL|Disconnect|2010-01-10 02:55:38|10/01/2010| 02:55:38|                      1|                404|              0|                         2|          1|          2|\n",
            "|{A7X4-Y3DM48XA-73...|10/01/2010 00:49:44|LEB1764|PC-2341|R:\\;R:\\54C2TG4;R:...|   Connect|2010-01-10 00:49:44|10/01/2010| 00:49:44|                      1|                385|              1|                         2|          1|          0|\n",
            "|{F7Z4-U0BJ54IA-11...|01/02/2010 07:40:11|RCT1697|PC-5770|R:\\;R:\\488TX69;R:...|   Connect|2010-02-01 07:40:11|01/02/2010| 07:40:11|                      1|                  1|              1|                        18|          2|          7|\n",
            "|{M1J9-R5HR77HW-92...|01/02/2010 07:42:43|DJA0740|PC-7197|R:\\;R:\\36tgdN0;R:...|   Connect|2010-02-01 07:42:43|01/02/2010| 07:42:43|                      1|                  1|              1|                         2|          2|          7|\n",
            "|{V8D2-M8GY65KS-99...|10/01/2010 01:03:56|QAH0048|PC-4007|                NULL|Disconnect|2010-01-10 01:03:56|10/01/2010| 01:03:56|                      1|                378|              0|                         6|          1|          1|\n",
            "|{G7P6-Q6CY11UE-53...|01/02/2010 07:55:26|ANC1950|PC-4921|                NULL|Disconnect|2010-02-01 07:55:26|01/02/2010| 07:55:26|                      1|                  1|              0|                         4|          2|          7|\n",
            "+--------------------+-------------------+-------+-------+--------------------+----------+-------------------+----------+---------+-----------------------+-------------------+---------------+--------------------------+-----------+-----------+\n",
            "only showing top 20 rows\n",
            "\n"
          ]
        }
      ]
    },
    {
      "cell_type": "markdown",
      "source": [
        "DATA SPLITTING:"
      ],
      "metadata": {
        "id": "TIdJytIi8hjX"
      }
    },
    {
      "cell_type": "code",
      "source": [
        "# Spliting the data into training, validation, and testing sets (70%, 15%, 15%)\n",
        "train_df, temp_df = df_spark.randomSplit([0.7, 0.3], seed=42)\n",
        "val_df, test_df = temp_df.randomSplit([0.5, 0.5], seed=42)\n",
        "\n",
        "# Show the sizes of the splits\n",
        "print(f\"Train set size: {train_df.count()}\")\n",
        "print(f\"Validation set size: {val_df.count()}\")\n",
        "print(f\"Test set size: {test_df.count()}\")\n"
      ],
      "metadata": {
        "colab": {
          "base_uri": "https://localhost:8080/"
        },
        "id": "w6casEAV0bVn",
        "outputId": "a6b9abe6-972b-44c6-f700-01fd759da9f0"
      },
      "execution_count": 6,
      "outputs": [
        {
          "output_type": "stream",
          "name": "stdout",
          "text": [
            "Train set size: 435276\n",
            "Validation set size: 93535\n",
            "Test set size: 93061\n"
          ]
        }
      ]
    },
    {
      "cell_type": "markdown",
      "source": [
        "TRAINING THE ISOLATION FOREST"
      ],
      "metadata": {
        "id": "MaOukuapk-rs"
      }
    },
    {
      "cell_type": "code",
      "source": [
        "import pandas as pd\n",
        "from sklearn.ensemble import IsolationForest\n",
        "from sklearn.metrics import accuracy_score\n",
        "from sklearn.model_selection import train_test_split\n",
        "import numpy as np\n",
        "\n",
        "# Assuming df_spark is your original Spark DataFrame\n",
        "\n",
        "# Convert to pandas DataFrame\n",
        "df_pd = df_spark.toPandas()\n",
        "\n",
        "# Features for anomaly detection\n",
        "features = ['activity_count_per_hour', 'unique_pcs_accessed', 'file_path_depth',\n",
        "            'activity_frequency_per_day', 'day_of_week', 'hour_of_day']\n",
        "\n",
        "# Extract features\n",
        "X = df_pd[features]\n",
        "\n",
        "# Create 'is_anomaly' column and set initial values to 0\n",
        "df_pd['is_anomaly'] = 0\n",
        "# Set a fraction of the data as anomalies (e.g., 10%) for demonstration\n",
        "df_pd.loc[df_pd.sample(frac=0.1, random_state=42).index, 'is_anomaly'] = 1\n",
        "\n",
        "# Split data into train, validation, and test sets\n",
        "X_train, X_temp, y_train, y_temp = train_test_split(X, df_pd['is_anomaly'], test_size=0.3, random_state=42)  # 70% train, 30% temp\n",
        "X_val, X_test, y_val, y_test = train_test_split(X_temp, y_temp, test_size=0.5, random_state=42)  # 15% val, 15% test\n",
        "\n",
        "\n",
        "# Initialize and train the Isolation Forest model\n",
        "model = IsolationForest(contamination='auto', random_state=42)\n",
        "model.fit(X_train)\n",
        "\n",
        "# Get anomaly scores on validation set to determine threshold\n",
        "anomaly_scores_val = model.decision_function(X_val)\n",
        "threshold = np.percentile(anomaly_scores_val, 10)  # Adjust percentile as needed\n",
        "\n",
        "# Predict anomalies on the test data\n",
        "anomaly_scores_test = model.decision_function(X_test)\n",
        "y_pred_test = (anomaly_scores_test < threshold).astype(int)\n",
        "\n",
        "# Calculate accuracy on the test data\n",
        "accuracy = accuracy_score(y_test, y_pred_test)\n",
        "print(f\"Accuracy of the Isolation Forest model on test data: {accuracy}\")"
      ],
      "metadata": {
        "colab": {
          "base_uri": "https://localhost:8080/"
        },
        "id": "GKrVLcPL1bAQ",
        "outputId": "78906c23-6089-4779-d585-7eabf6e878b7"
      },
      "execution_count": 11,
      "outputs": [
        {
          "output_type": "stream",
          "name": "stdout",
          "text": [
            "Accuracy of the Isolation Forest model on test data: 0.6340626708547292\n"
          ]
        }
      ]
    },
    {
      "cell_type": "markdown",
      "source": [
        "HYPERPARAMETER TUNING :"
      ],
      "metadata": {
        "id": "ikUhfI3glFnN"
      }
    },
    {
      "cell_type": "code",
      "source": [
        "import pandas as pd\n",
        "from sklearn.ensemble import IsolationForest\n",
        "from sklearn.model_selection import GridSearchCV, train_test_split\n",
        "from sklearn.metrics import accuracy_score\n",
        "from pyspark.sql import SparkSession\n",
        "\n",
        "# Initializing SparkSession\n",
        "spark = SparkSession.builder.appName(\"DataCleaning\").getOrCreate()\n",
        "\n",
        "# Loading data using Spark\n",
        "data_path = '/content/drive/MyDrive/checkpoint_final'\n",
        "train_spark = spark.read.parquet(data_path, header=True, inferSchema=True)\n",
        "\n",
        "# Convert to pandas DataFrame\n",
        "train_pd = train_spark.toPandas()\n",
        "\n",
        "# Select relevant features for anomaly detection\n",
        "features = ['activity_frequency_per_day', 'unique_pcs_accessed']\n",
        "X = train_pd[features]\n",
        "\n",
        "# Example: create dummy labels for demonstration (replace with your true labels)\n",
        "train_pd['is_anomaly'] = 0  # Assume initially no anomalies\n",
        "train_pd.loc[train_pd.sample(frac=0.1).index, 'is_anomaly'] = 1  # Set 10% of the data as anomalies for demonstration\n",
        "\n",
        "y = train_pd['is_anomaly']\n",
        "\n",
        "# Split data into training and testing sets\n",
        "X_train, X_test, y_train, y_test = train_test_split(X, y, test_size=0.2, random_state=42)\n",
        "\n",
        "# Define the parameter grid for GridSearchCV\n",
        "param_grid = {\n",
        "    'contamination': [0.01, 0.05, 0.1, 'auto'],\n",
        "    'n_estimators': [50, 100, 200],\n",
        "    'max_samples': [0.5, 1.0],\n",
        "    'max_features': [0.5, 1.0]\n",
        "}\n",
        "\n",
        "# Initialize the Isolation Forest model\n",
        "model = IsolationForest(random_state=42, n_jobs=-1)\n",
        "\n",
        "# Perform GridSearchCV\n",
        "grid_search = GridSearchCV(model, param_grid, cv=2, scoring='accuracy', n_jobs=-1, verbose=2)\n",
        "grid_search.fit(X_train, y_train)\n",
        "\n",
        "# Get the best model and its parameters\n",
        "best_model = grid_search.best_estimator_\n",
        "best_params = grid_search.best_params_\n",
        "\n",
        "print(f\"Best hyperparameters: {best_params}\")\n",
        "\n",
        "# Predict anomalies on the test data\n",
        "y_pred_test = best_model.predict(X_test)\n",
        "y_pred_test = [1 if x == -1 else 0 for x in y_pred_test]\n",
        "\n",
        "# Calculate test accuracy\n",
        "test_accuracy = accuracy_score(y_test, y_pred_test)\n",
        "print(f\"Test Accuracy: {test_accuracy}\")"
      ],
      "metadata": {
        "colab": {
          "base_uri": "https://localhost:8080/"
        },
        "id": "P8ALZZbZ6K_d",
        "outputId": "78b27083-9919-47eb-c552-fe224e617b07"
      },
      "execution_count": 25,
      "outputs": [
        {
          "output_type": "stream",
          "name": "stdout",
          "text": [
            "Fitting 2 folds for each of 48 candidates, totalling 96 fits\n",
            "Best hyperparameters: {'contamination': 0.01, 'max_features': 1.0, 'max_samples': 0.5, 'n_estimators': 200}\n",
            "Test Accuracy: 0.8915778894472361\n"
          ]
        }
      ]
    },
    {
      "cell_type": "code",
      "source": [
        "import pandas as pd\n",
        "from sklearn.ensemble import IsolationForest\n",
        "from sklearn.model_selection import GridSearchCV\n",
        "from sklearn.metrics import accuracy_score\n",
        "from pyspark.sql import SparkSession\n",
        "\n",
        "# Initializing SparkSession\n",
        "spark = SparkSession.builder.appName(\"DataCleaning\").getOrCreate()\n",
        "\n",
        "# Loading data using Spark\n",
        "data_path = '/content/drive/MyDrive/checkpoint_final'\n",
        "train_spark = spark.read.parquet(data_path, header=True, inferSchema=True)\n",
        "\n",
        "# Convert to pandas DataFrame\n",
        "train_pd = train_spark.toPandas()\n",
        "\n",
        "# Select relevant features for anomaly detection\n",
        "features = ['activity_frequency_per_day', 'unique_pcs_accessed']\n",
        "X_train = train_pd[features]\n",
        "\n",
        "# Example: create dummy labels for demonstration (replace with your true labels)\n",
        "train_pd['is_anomaly'] = 0  # Assume initially no anomalies\n",
        "train_pd.loc[train_pd.sample(frac=0.1).index, 'is_anomaly'] = 1  # Set 10% of the data as anomalies for demonstration\n",
        "\n",
        "y_train = train_pd['is_anomaly']\n",
        "\n",
        "# Define the parameter grid for GridSearchCV\n",
        "param_grid = {\n",
        "    'contamination': [0.01, 0.05, 0.1, 'auto'],  # Experiment with different contamination values\n",
        "    'n_estimators': [50, 100, 200],  # Reduced number of estimators\n",
        "    'max_samples': [0.5, 1.0],            # Reduced the max_samples values\n",
        "    'max_features': [0.5, 1.0]           # Reduced the max_features values\n",
        "}\n",
        "\n",
        "# Initialize the Isolation Forest model\n",
        "model = IsolationForest(random_state=42, n_jobs=-1) # Use all available cores\n",
        "\n",
        "# Perform GridSearchCV\n",
        "grid_search = GridSearchCV(model, param_grid, cv=2, scoring='accuracy', n_jobs=-1, verbose = 2) # Reduce number of cross-validation folds\n",
        "grid_search.fit(X_train, y_train)\n",
        "\n",
        "# Get the best model and its parameters\n",
        "best_model = grid_search.best_estimator_\n",
        "best_params = grid_search.best_params_\n",
        "\n",
        "print(f\"Best hyperparameters: {best_params}\")\n",
        "\n",
        "# Predict anomalies on the training data\n",
        "y_pred_train = best_model.predict(X_train)\n",
        "y_pred_train = [1 if x == -1 else 0 for x in y_pred_train]\n",
        "\n",
        "# Calculate accuracy\n",
        "accuracy = accuracy_score(y_train, y_pred_train)\n",
        "print(f\"Accuracy of the best Isolation Forest model: {accuracy}\")"
      ],
      "metadata": {
        "colab": {
          "base_uri": "https://localhost:8080/"
        },
        "id": "49S9Q3O6k1dN",
        "outputId": "c095fd47-0876-4d14-8cfe-5b2e549a5cf6"
      },
      "execution_count": 50,
      "outputs": [
        {
          "output_type": "stream",
          "name": "stdout",
          "text": [
            "Fitting 2 folds for each of 48 candidates, totalling 96 fits\n",
            "Best hyperparameters: {'contamination': 0.01, 'max_features': 1.0, 'max_samples': 0.5, 'n_estimators': 100}\n",
            "Accuracy of the best Isolation Forest model: 0.8921643039081998\n"
          ]
        }
      ]
    },
    {
      "cell_type": "markdown",
      "source": [
        "RE-TRAINING THE MODEL:"
      ],
      "metadata": {
        "id": "tbMVdHhvlOJO"
      }
    },
    {
      "cell_type": "code",
      "source": [
        "# prompt: using the new hyperparameters that were calculated, write a code to train an isolation forest algorithm to detect anomalies in the dataset using the best parameters to get an 0.8+ accuracy and print the accuracy of the model use these : Best hyperparameters: Best hyperparameters: {'contamination': 0.01, 'max_features': 0.5, 'max_samples': 1.0, 'n_estimators': 200}\n",
        "# Accuracy of the best Isolation Forest model: 0.8920533485990686\n",
        "\n",
        "# Initialize and train the Isolation Forest model with the best hyperparameters\n",
        "model = IsolationForest(contamination=0.01, max_features=0.5, max_samples=1.0, n_estimators=200, random_state=42)\n",
        "model.fit(X_train)\n",
        "\n",
        "# Predict anomalies on the training data\n",
        "y_pred_train = model.predict(X_train)\n",
        "y_pred_train = [1 if x == -1 else 0 for x in y_pred_train]\n",
        "\n",
        "# Calculate the accuracy\n",
        "accuracy = accuracy_score(y_train, y_pred_train) # Use y_train instead of true_labels_train\n",
        "print(f\"Accuracy of the Isolation Forest model with best hyperparameters: {accuracy}\")\n"
      ],
      "metadata": {
        "colab": {
          "base_uri": "https://localhost:8080/"
        },
        "id": "B1_z9q1MQ3FM",
        "outputId": "c8c5d86f-29e5-4434-f565-e101a95830c9"
      },
      "execution_count": 26,
      "outputs": [
        {
          "output_type": "stream",
          "name": "stdout",
          "text": [
            "Accuracy of the Isolation Forest model with best hyperparameters: 0.8920656807980751\n"
          ]
        }
      ]
    },
    {
      "cell_type": "markdown",
      "source": [
        "VISUALIZATION:"
      ],
      "metadata": {
        "id": "gKPsri8QQ_Ow"
      }
    },
    {
      "cell_type": "code",
      "source": [
        "import matplotlib.pyplot as plt\n",
        "\n",
        "# Assuming X_train, y_pred_train, and features are defined as in the previous code\n",
        "\n",
        "# Create the plot\n",
        "plt.figure(figsize=(10, 6))\n",
        "\n",
        "# Plot normal data points\n",
        "# Convert y_pred_train to numpy array to properly index\n",
        "y_pred_train_np = np.array(y_pred_train)\n",
        "plt.scatter(X_train[features[0]][y_pred_train_np == 0],\n",
        "            X_train[features[1]][y_pred_train_np == 0],\n",
        "            label='Normal', c='blue', alpha=0.5)\n",
        "\n",
        "# Plot anomalous data points\n",
        "plt.scatter(X_train[features[0]][y_pred_train_np == 1],\n",
        "            X_train[features[1]][y_pred_train_np == 1],\n",
        "            label='Anomaly', c='red', alpha=0.5)\n",
        "\n",
        "plt.xlabel(features[0])\n",
        "plt.ylabel(features[1])\n",
        "plt.title('Isolation Forest Anomaly Detection')\n",
        "plt.legend()\n",
        "plt.grid(True)\n",
        "plt.show()"
      ],
      "metadata": {
        "colab": {
          "base_uri": "https://localhost:8080/",
          "height": 564
        },
        "id": "JePDHVUnisx6",
        "outputId": "7654ef12-e1a5-4f03-be92-dd343558a7c3"
      },
      "execution_count": 27,
      "outputs": [
        {
          "output_type": "display_data",
          "data": {
            "text/plain": [
              "<Figure size 1000x600 with 1 Axes>"
            ],
            "image/png": "[encoded data removed]"
          },
          "metadata": {}
        }
      ]
    },
    {
      "cell_type": "markdown",
      "source": [
        "TRAINING THE K-MEANS KLUSTERING ALGORITHM"
      ],
      "metadata": {
        "id": "s0Cdn4OHlUX5"
      }
    },
    {
      "cell_type": "code",
      "source": [
        "import pandas as pd\n",
        "from sklearn.cluster import KMeans\n",
        "from sklearn.preprocessing import StandardScaler\n",
        "from sklearn.metrics import silhouette_score\n",
        "\n",
        "# 1. Get anomaly scores from Isolation Forest\n",
        "anomaly_scores = model.decision_function(train_pd[features])\n",
        "\n",
        "# 2. Select only the anomalies for clustering\n",
        "anomalies = train_pd[model.predict(train_pd[features]) == -1]\n",
        "anomaly_scores_anomalies = anomaly_scores[model.predict(train_pd[features]) == -1]\n",
        "\n",
        "# 3. Standardize the anomaly scores (important for KMeans)\n",
        "scaler = StandardScaler()\n",
        "scaled_scores = scaler.fit_transform(anomaly_scores_anomalies.reshape(-1, 1))\n",
        "\n",
        "# 4. Perform KMeans clustering\n",
        "kmeans = KMeans(n_clusters=3, random_state=42) # 3 clusters for low, medium, high severity\n",
        "kmeans.fit(scaled_scores)\n",
        "\n",
        "# 5. Add cluster labels (severity levels) to the anomalies DataFrame\n",
        "anomalies['severity'] = kmeans.labels_\n",
        "\n",
        "# 6. Map cluster labels to severity levels (optional)\n",
        "severity_mapping = {0: 'Low', 1: 'Medium', 2: 'High'} # You can adjust the mapping\n",
        "anomalies['severity_level'] = anomalies['severity'].map(severity_mapping)\n",
        "\n",
        "# 7. Explore the results\n",
        "print(anomalies[['severity', 'severity_level']]) # See the assigned severity levels\n",
        "\n",
        "# Calculate the silhouette score\n",
        "silhouette_avg = silhouette_score(scaled_scores, kmeans.labels_)\n",
        "\n",
        "# Print the score\n",
        "print(f\"Silhouette Score: {silhouette_avg}\")\n"
      ],
      "metadata": {
        "colab": {
          "base_uri": "https://localhost:8080/"
        },
        "id": "4AvvWy21vy8-",
        "outputId": "f65a549c-64ca-49e4-d3eb-30798e7bff36"
      },
      "execution_count": 29,
      "outputs": [
        {
          "output_type": "stream",
          "name": "stderr",
          "text": [
            "<ipython-input-29-ed3993556603>:22: SettingWithCopyWarning: \n",
            "A value is trying to be set on a copy of a slice from a DataFrame.\n",
            "Try using .loc[row_indexer,col_indexer] = value instead\n",
            "\n",
            "See the caveats in the documentation: https://pandas.pydata.org/pandas-docs/stable/user_guide/indexing.html#returning-a-view-versus-a-copy\n",
            "  anomalies['severity'] = kmeans.labels_\n",
            "<ipython-input-29-ed3993556603>:26: SettingWithCopyWarning: \n",
            "A value is trying to be set on a copy of a slice from a DataFrame.\n",
            "Try using .loc[row_indexer,col_indexer] = value instead\n",
            "\n",
            "See the caveats in the documentation: https://pandas.pydata.org/pandas-docs/stable/user_guide/indexing.html#returning-a-view-versus-a-copy\n",
            "  anomalies['severity_level'] = anomalies['severity'].map(severity_mapping)\n"
          ]
        },
        {
          "output_type": "stream",
          "name": "stdout",
          "text": [
            "        severity severity_level\n",
            "33             1         Medium\n",
            "100            1         Medium\n",
            "1915           1         Medium\n",
            "4634           1         Medium\n",
            "4745           1         Medium\n",
            "...          ...            ...\n",
            "614562         1         Medium\n",
            "620183         1         Medium\n",
            "620303         1         Medium\n",
            "620392         1         Medium\n",
            "620463         1         Medium\n",
            "\n",
            "[6278 rows x 2 columns]\n",
            "Silhouette Score: 0.6838767855671295\n"
          ]
        }
      ]
    },
    {
      "cell_type": "markdown",
      "source": [
        "HYPERPARAMETER TUNING:"
      ],
      "metadata": {
        "id": "DaPU60I_Re-V"
      }
    },
    {
      "cell_type": "code",
      "source": [
        "from sklearn.metrics import silhouette_score\n",
        "from sklearn.cluster import KMeans\n",
        "import numpy as np\n",
        "\n",
        "# Hyperparameter tuning with limited iterations\n",
        "best_score = -1\n",
        "best_k = -1\n",
        "\n",
        "# Iterate over a limited range of k values (cluster numbers)\n",
        "for k in range(2, 5):\n",
        "  kmeans = KMeans(n_clusters=k, random_state=42, n_init=5)\n",
        "  kmeans.fit(scaled_scores)\n",
        "  score = silhouette_score(scaled_scores, kmeans.labels_)\n",
        "  if score > best_score:\n",
        "    best_score = score\n",
        "    best_k = k\n",
        "\n",
        "print(f\"Best k: {best_k}\")\n",
        "print(f\"Best Silhouette Score: {best_score}\")\n",
        "\n",
        "# Train the KMeans model with the best hyperparameter\n",
        "kmeans_final = KMeans(n_clusters=best_k, random_state=42, n_init = 10)\n",
        "kmeans_final.fit(scaled_scores)\n",
        "\n",
        "# Use the final model for further analysis or prediction\n",
        "anomalies['severity'] = kmeans_final.labels_\n"
      ],
      "metadata": {
        "colab": {
          "base_uri": "https://localhost:8080/"
        },
        "id": "DBh7q1LEnH-F",
        "outputId": "ff52d6ff-6786-426a-9b23-68affb762d1d"
      },
      "execution_count": 30,
      "outputs": [
        {
          "output_type": "stream",
          "name": "stdout",
          "text": [
            "Best k: 4\n",
            "Best Silhouette Score: 0.7349728470011831\n"
          ]
        },
        {
          "output_type": "stream",
          "name": "stderr",
          "text": [
            "<ipython-input-30-78afb6b321a9>:26: SettingWithCopyWarning: \n",
            "A value is trying to be set on a copy of a slice from a DataFrame.\n",
            "Try using .loc[row_indexer,col_indexer] = value instead\n",
            "\n",
            "See the caveats in the documentation: https://pandas.pydata.org/pandas-docs/stable/user_guide/indexing.html#returning-a-view-versus-a-copy\n",
            "  anomalies['severity'] = kmeans_final.labels_\n"
          ]
        }
      ]
    },
    {
      "cell_type": "markdown",
      "source": [
        "RE-TRAINING THE MODEL :"
      ],
      "metadata": {
        "id": "qLaBqtpfpon_"
      }
    },
    {
      "cell_type": "code",
      "source": [
        "# Re-train the model with the best k value (4 in this case)\n",
        "kmeans_retrained = KMeans(n_clusters=4, random_state=42, n_init=10)\n",
        "kmeans_retrained.fit(scaled_scores)\n",
        "\n",
        "# Calculate the silhouette score of the re-trained model\n",
        "silhouette_avg_retrained = silhouette_score(scaled_scores, kmeans_retrained.labels_)\n",
        "print(f\"Silhouette score of the re-trained model with k=4: {silhouette_avg_retrained}\")\n"
      ],
      "metadata": {
        "colab": {
          "base_uri": "https://localhost:8080/"
        },
        "id": "vBpAoIBSpaI_",
        "outputId": "fe33978b-6d28-4d49-88d1-86990d594a25"
      },
      "execution_count": 31,
      "outputs": [
        {
          "output_type": "stream",
          "name": "stdout",
          "text": [
            "Silhouette score of the re-trained model with k=4: 0.7349728470011831\n"
          ]
        }
      ]
    },
    {
      "cell_type": "markdown",
      "source": [
        "VISUALIZATION:"
      ],
      "metadata": {
        "id": "AMOpZ-5vp7os"
      }
    },
    {
      "cell_type": "code",
      "source": [
        "import matplotlib.pyplot as plt\n",
        "\n",
        "fig, ax = plt.subplots(figsize=(10, 6))\n",
        "\n",
        "# Define a custom colormap\n",
        "from matplotlib.colors import ListedColormap\n",
        "colors = ['purple', 'blue', 'yellow']  # Define your desired colors\n",
        "cmap = ListedColormap(colors)\n",
        "\n",
        "# Scatter plot with custom colormap\n",
        "scatter = ax.scatter(anomalies['activity_frequency_per_day'], anomalies['unique_pcs_accessed'],\n",
        "                     c=anomalies['severity'], cmap=cmap, s=10)\n",
        "ax.set_xlabel('Activity Frequency per Day')\n",
        "ax.set_ylabel('Unique PCs Accessed')\n",
        "ax.set_title('Anomalies Classified by KMeans with Index Labels')\n",
        "\n",
        "# Add colorbar for cluster assignments\n",
        "cbar = fig.colorbar(scatter, ax=ax)\n",
        "cbar.set_label('Severity Level')\n",
        "\n",
        "plt.tight_layout()\n",
        "plt.show()"
      ],
      "metadata": {
        "colab": {
          "base_uri": "https://localhost:8080/",
          "height": 607
        },
        "id": "hqusJL0nhntH",
        "outputId": "bac6cfc8-cb9a-44b8-b7aa-056a580d15c3"
      },
      "execution_count": 32,
      "outputs": [
        {
          "output_type": "display_data",
          "data": {
            "text/plain": [
              "<Figure size 1000x600 with 2 Axes>"
            ],
            "image/png": "[encoded data removed]"
          },
          "metadata": {}
        }
      ]
    }
  ]
}